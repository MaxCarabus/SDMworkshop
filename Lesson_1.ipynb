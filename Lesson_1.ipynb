{
 "cells": [
  {
   "cell_type": "markdown",
   "metadata": {},
   "source": [
    "## Знакомство с работой вычислительного блокнота Jupyter<br>в среде статистического программирования R\n",
    "\"Вычислительный блокнот\", далее просто \"блокнот\", представляет собой файл со специальной структурой, разделенный на  блоки - \"ячейки (cells)\" и запускаемый под управлением интерактивного сервиса [**Jupyter**](https://jupyter.org/)<br>\n",
    "Каждая ячейка может содержать фрагмент программого кода (Code) или размеченный текст (Markdown), содержащий пояснения, коментарии и прочую полезную информацию. \n",
    "Текстовые ячейки могут быть с разнообразмыми элементами <b>форматирования текста</b>, а также **содержать** [_гиперссылки_](https://jupyter.org/) и изображения, \n",
    "добавленные посредством тегов языка разметки HTML. <br>\n",
    "\n",
    "#### [R - язык статистической обработки данных](https://ru.wikipedia.org/wiki/R_(%D1%8F%D0%B7%D1%8B%D0%BA_%D0%BF%D1%80%D0%BE%D0%B3%D1%80%D0%B0%D0%BC%D0%BC%D0%B8%D1%80%D0%BE%D0%B2%D0%B0%D0%BD%D0%B8%D1%8F))\n",
    "<div align=\"center\" style=\"margin:25px\">\n",
    "<img src = \"https://upload.wikimedia.org/wikipedia/commons/thumb/1/1b/R_logo.svg/1200px-R_logo.svg.png\" width = 200>\n",
    "</div>  \n",
    "\n",
    "Чтобы увидеть \"исходник\" данного текста, нужно щелкнуть дважды мышью по этой ячейке, чтобы привести его в первоначальный вид - <br>нажать кнопку **run** в меню окна файла или **Ctrl+Enter** с клавиатуры<br>\n",
    "Эти же действия с ячейкой кода приведут к его выполнению и вы сразу увидите результат<br>\n",
    "например:\n"
   ]
  },
  {
   "cell_type": "code",
   "execution_count": null,
   "metadata": {},
   "outputs": [],
   "source": [
    "2+2"
   ]
  },
  {
   "cell_type": "markdown",
   "metadata": {},
   "source": [
    "В среде R есть учебный набор данных [**\"Ирисы Фишера\"**](https://ru.wikipedia.org/wiki/%D0%98%D1%80%D0%B8%D1%81%D1%8B_%D0%A4%D0%B8%D1%88%D0%B5%D1%80%D0%B0). <br> В нем содержатся промеры цветков трех видов: \n",
    "**Ирис щетинистый** (_Iris setosa_), **Ирис виргинский** (_Iris virginica_) и **Ирис разноцветный** (_Iris versicolor_)\n",
    "<div align=\"center\">    \n",
    "<img src = \"https://upload.wikimedia.org/wikipedia/commons/thumb/a/a7/Irissetosa1.jpg/220px-Irissetosa1.jpg\" width = 250 style=\"margin:15px\">\n",
    "<img src = \"https://upload.wikimedia.org/wikipedia/commons/thumb/9/9f/Iris_virginica.jpg/220px-Iris_virginica.jpg\" width = 231 style=\"margin:15px\">\n",
    "<img src = \"https://upload.wikimedia.org/wikipedia/commons/thumb/4/41/Iris_versicolor_3.jpg/220px-Iris_versicolor_3.jpg\" width = 250 style=\"margin:15px\">\n",
    "</div>\n",
    "\n",
    "Было взято по 50 экземпляров каждого вида, измерялись **длина (length)** и **ширина (width)** длинных лепестков (_**Sepal**_) и коротких (_**Petal**_) - всего 4 параметра:\n",
    "\n",
    "1. _**Sepal length**_ (длина наружной доли околоцветника)\n",
    "2. ***Sepal width*** (ширина наружной доли околоцветника)\n",
    "3. _**Petal length**_ (длина внутренней доли околоцветника)\n",
    "4. ***Petal width*** (ширина внутренней доли околоцветника)\n",
    "\n",
    "посмотрим, что собой представляют данные, для этого просто наберем название набора"
   ]
  },
  {
   "cell_type": "code",
   "execution_count": null,
   "metadata": {},
   "outputs": [],
   "source": [
    "iris"
   ]
  },
  {
   "cell_type": "markdown",
   "metadata": {},
   "source": [
    "мы увидели таблицу (dataframe), состоящий из 5 колонок (полей) и 150 строк (записей).<br>\n",
    "Теперь посмотрим подробности, выполнив следующие команды, которые покажут:<br>\n",
    "размерность данных,<br>\n",
    "заголовки полей<br> и \n",
    "значения описательной статистики по каждому из полей (мин., макс, значения, средняя, медиана, ...)"
   ]
  },
  {
   "cell_type": "code",
   "execution_count": null,
   "metadata": {},
   "outputs": [],
   "source": [
    "dim(iris)\n",
    "names(iris)\n",
    "summary(iris)"
   ]
  },
  {
   "cell_type": "markdown",
   "metadata": {},
   "source": [
    "данные можно сохранить в файл\n",
    "(сработает только в том случае, если вы рапускаете блокнот в своём рабочем пространстве)"
   ]
  },
  {
   "cell_type": "code",
   "execution_count": null,
   "metadata": {},
   "outputs": [],
   "source": [
    "write.csv(iris, \"iris_test.csv\")"
   ]
  },
  {
   "cell_type": "markdown",
   "metadata": {},
   "source": [
    "И загрузить данные из файла <br>\n",
    "если посмотреть заголовки полей, то можно увитеть, что при сохранении в файл было добавлено еще одно поле \"X\", которое содержит номер строки\n"
   ]
  },
  {
   "cell_type": "code",
   "execution_count": null,
   "metadata": {},
   "outputs": [],
   "source": [
    "iristest <- read.csv(\"iris_test.csv\")\n",
    "colnames(iristest)"
   ]
  },
  {
   "cell_type": "markdown",
   "metadata": {},
   "source": [
    "далее возьмем значения одного параметра (ширина длинных лепестков) для одного вида (_Iris setosa_) <br>\n",
    "возможные значение какого-то поля можно получить при помощи функции ***unique()***"
   ]
  },
  {
   "cell_type": "code",
   "execution_count": null,
   "metadata": {},
   "outputs": [],
   "source": [
    "unique(iris$Species)"
   ]
  },
  {
   "cell_type": "markdown",
   "metadata": {},
   "source": [
    "следующая команда выбирает значения из набора данных по заданном критериям"
   ]
  },
  {
   "cell_type": "code",
   "execution_count": null,
   "metadata": {},
   "outputs": [],
   "source": [
    "setosa_sw=iris[iris$Species=='setosa',c('Sepal.Width')]"
   ]
  },
  {
   "cell_type": "markdown",
   "metadata": {},
   "source": [
    "построим гистограмму по распределению этого значения"
   ]
  },
  {
   "cell_type": "code",
   "execution_count": null,
   "metadata": {},
   "outputs": [],
   "source": [
    "hist(setosa_sw, ylab = \"частоты\", xlab = \"Ширина в мм\")\n"
   ]
  },
  {
   "cell_type": "markdown",
   "metadata": {},
   "source": [
    "Одна из главных возможностей блокнота Jupyter - это то, что можно поменять параметры и запустить фрагмент кода еще раз. <br>\n",
    "Например, добавим в функцию **hist** свойство ***\"breaks = n\"*** с числок, групп, на которое мы желаем, чтобы было разбито распределение и запустим эту ячейку еще раз.\n",
    "Попробуйте запустить несколько за с разными значениями параметра **\"breaks\"**<br>\n",
    "можно добавить цвет ***col = \"green\"***<br>\n",
    "наименования цветов в R можно увидеть [**здесь**](http://www.stat.columbia.edu/~tzheng/files/Rcolor.pdf)\n",
    "\n",
    "тут же можно вызвать справку по любой функции (команде) R<br>\n",
    "результат выполнения кода может быть большим и мешать восприятию текста или содержать уже не актуальные сведения, так как вы уже что-то поменяли.<br> Чтобы убрать результат выполнения кода, надо выполнить команду ***Clear Outputs*** из контекстного меню (правая клавиша мыши) или ***Clear All Outputs***, чтобы очистить весь блокнот\n",
    "<br><br>\n",
    "далее смотрим подсказку по функции ***hist***, а затем её убираем"
   ]
  },
  {
   "cell_type": "code",
   "execution_count": null,
   "metadata": {},
   "outputs": [],
   "source": [
    "? hist"
   ]
  },
  {
   "cell_type": "markdown",
   "metadata": {},
   "source": [
    "теперь построим сдандартный график \"ящик с усами\""
   ]
  },
  {
   "cell_type": "code",
   "execution_count": null,
   "metadata": {},
   "outputs": [],
   "source": [
    "boxplot(setosa)"
   ]
  },
  {
   "cell_type": "markdown",
   "metadata": {},
   "source": [
    "далее посмотрим справку по фунции ***boxplot***, добавим какой-нибудь параметр в неё и запустим заново<br>\n",
    "например с указанием, не выделять выбросы \"*outline = FALSE*\""
   ]
  },
  {
   "cell_type": "code",
   "execution_count": null,
   "metadata": {},
   "outputs": [],
   "source": [
    "? boxplot"
   ]
  },
  {
   "cell_type": "markdown",
   "metadata": {},
   "source": [
    "выполним проверку на нормальность,\n",
    "для этого используем тест [Шапиро-Уилка](https://en.wikipedia.org/wiki/Shapiro%E2%80%93Wilk_test)"
   ]
  },
  {
   "cell_type": "code",
   "execution_count": null,
   "metadata": {},
   "outputs": [],
   "source": [
    "shapiro.test(setosa_sw)"
   ]
  },
  {
   "cell_type": "markdown",
   "metadata": {},
   "source": [
    "если значение **p** меньше 0.05, значит нулевую гипотезу о нормальности распределения отвергаем, больше - принимаем.<br>\n",
    "тепеть попробуйте проделать всё тоже самое с другими параметрами и видами\n",
    "- - - - - - - - - - "
   ]
  },
  {
   "cell_type": "markdown",
   "metadata": {},
   "source": [
    "### Встронные наборы данных в среде R\n",
    "Кроме набора данных \"Ирисы Фишера\", в среде R еще много других наборов данных, на примере которых можно осваивать разнообразные методы статистического анализа и способы визуализации как самих данных, так и результатов их обработки и анализа.\n",
    "Для того чтобы вызвать список наборов данных идущих в комплекте с R нужно выполнить следующую команду:\n"
   ]
  },
  {
   "cell_type": "code",
   "execution_count": null,
   "metadata": {},
   "outputs": [],
   "source": [
    "data()"
   ]
  },
  {
   "cell_type": "markdown",
   "metadata": {},
   "source": [
    "Здесь есть также примеры на объектах живого мира:<br>\n",
    "динамика температуры тела двух бобров (beaver1 и beaver2),<br>\n",
    "рост апельсиновых деревьев (Orange),<br>\n",
    "влияние витамина C на рост зубов морских свинок (ToothGrowth)<br> \n",
    "и другие<br><br>\n",
    "например, построим график динамики температуры тела бобра №1:\n",
    "\n"
   ]
  },
  {
   "cell_type": "code",
   "execution_count": null,
   "metadata": {},
   "outputs": [],
   "source": [
    "plot(beaver1$temp, type = \"l\",col = \"red\", xlab = \"дни\", ylab = expression(paste(\"температура тела, \",degree,\"C\")))"
   ]
  },
  {
   "cell_type": "markdown",
   "metadata": {},
   "source": [
    "- - - \n",
    "Попробуйте сделать свой вычистительный блокнот, аналогичный этому, на примере одного из учебных наборов данных или, что будет еще лучше, на примере собственных данных.<br><br>\n",
    "Создавать и редактировать блокноты Jupyper не намного сложнее, чем работать в обычном текстовом редакторе. <br>\n",
    "весь набор необходимых инстументов представлен сверху окна блокнота: <br>\n",
    "слева направо: <br> \n",
    "*сохранить файл*;<br> \n",
    "*добавить ячейку*; \n",
    "<br>*вырезать ячейку*; \n",
    "<br>*вставить ...*;\n",
    "<br>*запусть код* - для той ячейки, в которой курсор; \n",
    "<br>*прервать выполнение* - если процес завис, \n",
    "<br>*перезапустить ядро* - сбрасывает все переменные, \n",
    "<br>*тип ячейки* - по умолчанию новая ячейки добавляется для кода, если нужен блок текста - поменяйте на *Markdown*\n",
    "\n",
    "ячейку можно перетащить на другое место, взяв её мышью за левое поле\n",
    "\n",
    "Начать работу с новым блокнотом следует с команды главного меню: **File** -> **New** -> **Notebook**\n",
    "\n",
    "### Успехов !!!\n",
    "все вопросы и готовые задания присылайте на адрес конференции ***bdi@pbcras.ru*** с темой письма ***мастер-класс 2***\n"
   ]
  }
 ],
 "metadata": {
  "kernelspec": {
   "display_name": "R [conda env:r36]",
   "language": "R",
   "name": "conda-env-r36-r"
  },
  "language_info": {
   "codemirror_mode": "r",
   "file_extension": ".r",
   "mimetype": "text/x-r-source",
   "name": "R",
   "pygments_lexer": "r",
   "version": "3.6.1"
  }
 },
 "nbformat": 4,
 "nbformat_minor": 4
}
