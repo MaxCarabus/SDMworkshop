{
 "cells": [
  {
   "cell_type": "markdown",
   "metadata": {},
   "source": [
    "### Занятие 2 - ирисы Фишера (продолжение)\n",
    "#### Регрессионный анализ\n",
    "\n",
    "Продолжаем работать с набором данных по ирисам.  \n",
    "Выберим один вид - *Iris setosa* Pall. ex Link \n",
    "<div align=\"center\">    \n",
    "<img src = 'https://static.inaturalist.org/photos/42186034/original.jpg?1560741530' width = 400 px><br>  \n",
    "    <i>Фотография с лиценцией CC0 из iNaturalist</i>  \n",
    "    </div>   \n",
    "\n",
    "Используя глобальные ресурсы о биоразноооразии, можно увидеть, где этот вид встречается:  \n",
    "[находки *Iris setosa* в GBIF](https://www.gbif.org/species/5298796)  \n",
    "[наблюдения *Iris setosa* в iNaturalist](https://www.inaturalist.org/taxa/164134-Iris-setosa)"
   ]
  },
  {
   "cell_type": "markdown",
   "metadata": {},
   "source": [
    "Теперь построим  регрессию  зависимость длины наружной доли околоцветника (***sepal length***) от ширины внутренной доли (***petal width***). \n",
    "\n",
    "Регрессионный анализ является широко используемым статистическим методом для установлении модели отношений между двумя переменными.  \n",
    "Одна переменная называется предиктором (или независимой переменной), вторая - откликом (зависимой переменной или переменной ответа).   \n",
    "Не всегда точно известно что от чего зависит, тоэтому регрессионных анализ можно использовать для обнаружения переменных, которые могут влиять на интересующий признак.   \n",
    "В линейной регрессии две переменные связаны через уравнение, где показатель (степень) обеих переменных равен 1 и график уравнения представляет прямую. \n",
    "\n",
    "Для начала выберем данные по одному виду и только с нужными параметрами"
   ]
  },
  {
   "cell_type": "code",
   "execution_count": null,
   "metadata": {},
   "outputs": [],
   "source": [
    "setosa=iris[iris$Species=='setosa',c(4,1)]\n",
    "setosa"
   ]
  },
  {
   "cell_type": "markdown",
   "metadata": {},
   "source": [
    "После чего построим простой график - точечную диаграмму или график рассеяния (scatter plot),    \n",
    "на котором увидим значения в двумерном пространстве \"Ширина внутренней доли - Ширина наружной\".  \n",
    "Попробуйте изменить параметры графика, например, значок (pch), его размер и цвет (col и bg).  \n",
    "Чтобы вызвать справку по данной функции, надо выполнить команду \"? plot\"\n",
    "\n"
   ]
  },
  {
   "cell_type": "code",
   "execution_count": null,
   "metadata": {},
   "outputs": [],
   "source": [
    "plot(setosa,\n",
    "     pch=23, col='darkorchid4', bg='darkorchid1',     \n",
    "     las=1, # ориентация значений по осям\n",
    "     xlab='Ширина внутренней доли околоцветника, см', ylab='Длина нажурной доли околоцветника, см', # подписи осей\n",
    "     main='Iris setosa',font.main=4 # заголовок графика курсивом\n",
    "     )"
   ]
  },
  {
   "cell_type": "markdown",
   "metadata": {},
   "source": [
    "Визуализация значений анализируемых переменных всегда полезна, так как уже этот предварительный этап даёт представление о том, выражена ли взаимосвязь между значениями переменных или не особо. \n",
    "\n",
    "***Простая линейная регрессия*** имеет формулу: `у = a + bx`  \n",
    "в которой ширина внутренней доли околоцветника (***petal width***) будет предиктором (независимая переменная) - x ,  \n",
    "длина наружной доли околоцветника (***sepal length***) будет откликом (зависимая переменная) - y\n",
    "\n",
    "далее происходит вычисление модели и отображение её свойств"
   ]
  },
  {
   "cell_type": "code",
   "execution_count": null,
   "metadata": {},
   "outputs": [],
   "source": [
    "res=lm(setosa$Sepal.Length ~ setosa$Petal.Width) # зависимость первой переменной (sepal length) от второй (petal width)\n",
    "summary(res) # результаты регрессионного анализа"
   ]
  },
  {
   "cell_type": "markdown",
   "metadata": {},
   "source": [
    "Среди полученых значений находим:  \n",
    "Intercept - это ***a*** (свободный член) в формуле регрессии: 4.78, это значение также называется *пересечение* (регрессионной прямой) и показывает предсказанное значение (У) когда предиктор (X) равен 0 \n",
    "и ***b*** - это угловой коэффициент (или коэффициент регрессии) для предиктора (setosa$Petal.Width):  0.93, показывает на какое значение изменяется отклик, при изменении предиктора на 1 \n",
    "\n",
    "Если нужны только коэффициенты, то можно воспользоваться следующей функцией"
   ]
  },
  {
   "cell_type": "code",
   "execution_count": null,
   "metadata": {},
   "outputs": [],
   "source": [
    "coefficients(res)"
   ]
  },
  {
   "cell_type": "markdown",
   "metadata": {},
   "source": [
    "В результате можно составить формулу: `y = 4.78 + 0.93 * x` или   \n",
    "`длина наружной доли = 4.78 + 0.93 * ширина внутренней доли` или  \n",
    "`Sepal.Length = 4.78 + 0.93 * Petal.Width`\n",
    "\n",
    "При этом по значению `Pr(>|t|)` ясно, что коэффициент регрессии значимо отличается от нуля (p < 0.001), то есть связь между переменными есть.  \n",
    "Но при этом значение `Multiple R-squared` или множественного коэффициента детерминации означает, что полученная регрессионная модель объясняет только 7.7% дисперсии зависимой переменной, что очень мало."
   ]
  },
  {
   "cell_type": "markdown",
   "metadata": {},
   "source": [
    "Теперь визуализируем полученное уравнение,   \n",
    "вместе с предыдущим графиком"
   ]
  },
  {
   "cell_type": "code",
   "execution_count": null,
   "metadata": {},
   "outputs": [],
   "source": [
    "x1 = min(setosa$Petal.Width)\n",
    "x2 = max(setosa$Petal.Width)\n",
    "y1 = 4.78 + x1 * 0.93\n",
    "y2 = 4.78 + x2 * 0.93\n",
    "\n",
    "plot(setosa,\n",
    "     pch=23, col='darkorchid4', bg='darkorchid1',     \n",
    "     las=1, # ориентация значений по осям\n",
    "     xlab='Ширина внутренней доли околоцветника, см', ylab='Длина нажурной доли околоцветника, см', # подписи осей\n",
    "     main='Iris setosa',font.main=4 # заголовок графика курсивом\n",
    "     )\n",
    "lines(c(x1, x2), c(y1, y2))\n",
    "text(0.4, 4.3, labels='Sepal.Length = 4.78 + 0.93 * Petal.Width')"
   ]
  },
  {
   "cell_type": "markdown",
   "metadata": {},
   "source": [
    "Важным свойством регрессии является распределение ***остатков*** (residuals).  \n",
	"Это разница между наблюдаемыми и предсказанными значениями зависимой переменной.  \n",
	"Собственно процесс вычисления линейной регрессионной модели заключается в минимизации суммы квадратов остатков (МНК - метод наименьших квадратов)."
   ]
  },
  {
   "cell_type": "code",
   "execution_count": null,
   "metadata": {},
   "outputs": [],
   "source": [
    "res$residuals\n",
    "plot(res$residuals)\n",
    "hist(res$residuals)"
   ]
  },
  {
   "cell_type": "markdown",
   "metadata": {},
   "source": [
    "в результате видим, что остатки распределены не хаотично, т.е. линейная регрессия не очень хорошо объясняет наши данные"
   ]
  },
  {
   "cell_type": "markdown",
   "metadata": {},
   "source": [
    "проверим остатки на нормальность распределения"
   ]
  },
  {
   "cell_type": "code",
   "execution_count": null,
   "metadata": {},
   "outputs": [],
   "source": [
    "shapiro.test(res$residuals)"
   ]
  },
  {
   "cell_type": "markdown",
   "metadata": {},
   "source": [
    "Значение **p** больше 0.05, значит остатки следуют нормальному распределению.\n",
    "\n",
    "Можно следать вывод, что несмотря на то, что зависимость длины наружной доли околоцветника от ширины внутренней для вида *Iris setosa* Pall. ex Link выявлена со статистической значимостью, ..."
   ]
  },
  {
   "cell_type": "markdown",
   "metadata": {},
   "source": [
    "**Задание**: проведите регрессионный анализ взаимосвязи этих же переменных для другого вида ирисов (*Iris versicolor* L. или *Iris virginica* L.) или других переменных для того же вида"
   ]
  },
  {
   "cell_type": "markdown",
   "metadata": {},
   "source": [
    "#### Дисперсионный анализ\n",
    "Теперь посмотрим как различаются виды ирисов между собой по одному из признаков - ширине наружной доли околоцветника - ***sepal width***.    \n",
    "Сначала построим ящиковую диаграмму."
   ]
  },
  {
   "cell_type": "code",
   "execution_count": null,
   "metadata": {},
   "outputs": [],
   "source": [
    "boxplot(iris$Sepal.Width~iris$Species,\n",
    "        las=1,\n",
    "        xlab='Виды ирисов', ylab='Ширина наружной доли околоцветника, см',\n",
    "        col=c('dodgerblue3','hotpink2','orange2')\n",
    "        )"
   ]
  },
  {
   "cell_type": "markdown",
   "metadata": {},
   "source": [
    "Как можно увидеть на графике - различия есть, при этом наиболее отличаются виды *I. setosa* и *I. versicolor*\n",
    "\n",
    "Чтобы подтвердить или опровергнуть это предположение, проведем однофакторный дисперсионный анализ\n"
   ]
  },
  {
   "cell_type": "code",
   "execution_count": null,
   "metadata": {},
   "outputs": [],
   "source": [
    "summary(aov(iris$Sepal.Width~iris$Species))"
   ]
  },
  {
   "cell_type": "markdown",
   "metadata": {},
   "source": [
    "Из результатов (p < 0.000) видно, что среди трех видов ирисов есть статистически значимые различия по ширине наружной доли околоцветника.\n",
    "Теперь нужно выяснить, между какими парами есть различия.\n",
    "Для этого используем post-hoc критерий Тьюки и визуализируем результат"
   ]
  },
  {
   "cell_type": "code",
   "execution_count": null,
   "metadata": {},
   "outputs": [],
   "source": [
    "plot(TukeyHSD (aov(iris$Sepal.Width~iris$Species)))"
   ]
  },
  {
   "cell_type": "markdown",
   "metadata": {},
   "source": [
    "Видим, что все пары значимо различаются, т.к. ни один отрезок не пересекает 0\n",
    "\n",
    "**Задание:** тепеть попробуйте проделать то же самое с тремя другими признаками: длина наружной доли, ширина и длина внутренней"
   ]
  },
  {
   "cell_type": "markdown",
   "metadata": {},
   "source": [
    "#### МНОГОМЕРНЫЕ МЕТОДЫ\n",
    "Далее перейдем к ординации.\n",
    "Для этого установим необходимые пакеты (процесс может занять какое-то время)"
   ]
  },
  {
   "cell_type": "code",
   "execution_count": null,
   "metadata": {},
   "outputs": [],
   "source": [
    "install.packages('factoextra')\n",
    "install.packages('rlang')"
   ]
  },
  {
   "cell_type": "code",
   "execution_count": null,
   "metadata": {},
   "outputs": [],
   "source": [
    "library('rlang')\n",
    "library('factoextra')"
   ]
  },
  {
   "cell_type": "markdown",
   "metadata": {},
   "source": [
    "создаем переменную, в которую записываем данные для ординации"
   ]
  },
  {
   "cell_type": "code",
   "execution_count": null,
   "metadata": {},
   "outputs": [],
   "source": [
    "data.iris=iris[,c(1:4)]"
   ]
  },
  {
   "cell_type": "code",
   "execution_count": null,
   "metadata": {},
   "outputs": [],
   "source": [
    "head(data.iris)"
   ]
  },
  {
   "cell_type": "markdown",
   "metadata": {},
   "source": [
    "pca - анализ главных компонент"
   ]
  },
  {
   "cell_type": "code",
   "execution_count": null,
   "metadata": {},
   "outputs": [],
   "source": [
    "res.pca=prcomp(data.iris, scale=TRUE)"
   ]
  },
  {
   "cell_type": "markdown",
   "metadata": {},
   "source": [
    "смотрим на результаты\n",
    "диаграмма с собственными числами\n",
    "она показывает, сколько процентов вариации объясняет каждая ось"
   ]
  },
  {
   "cell_type": "code",
   "execution_count": null,
   "metadata": {},
   "outputs": [],
   "source": [
    "fviz_eig(res.pca)"
   ]
  },
  {
   "cell_type": "markdown",
   "metadata": {},
   "source": [
    "построим биплот, на котором покажем и объекты (отдельные растения ирисов) и переменные (измеренные у отдельных растений)"
   ]
  },
  {
   "cell_type": "code",
   "execution_count": null,
   "metadata": {},
   "outputs": [],
   "source": [
    "fviz_pca_biplot(res.pca, repel = TRUE,\n",
    "                label='var', # подписываем только переменные\n",
    "                col.var = \"magenta\", # цвет подписей переменных\n",
    "                col.ind=iris[,5],palette='jco', # цвет объектов\n",
    "                title='Fishers Iris: PCA', # заголовок\n",
    "                addEllipses = TRUE, # добавляем эллипсы\n",
    "                legend.title='Species' # заголовок легенды\n",
    ")"
   ]
  },
  {
   "cell_type": "markdown",
   "metadata": {},
   "source": [
    "Results for Variables"
   ]
  },
  {
   "cell_type": "code",
   "execution_count": null,
   "metadata": {},
   "outputs": [],
   "source": [
    "res.var <- get_pca_var(res.pca)\n",
    "res.var$coord          # Coordinates\n",
    "res.var$contrib        # Contributions to the PCs\n",
    "res.var$cos2           # Quality of representation "
   ]
  },
  {
   "cell_type": "markdown",
   "metadata": {},
   "source": [
    "Results for individuals"
   ]
  },
  {
   "cell_type": "code",
   "execution_count": null,
   "metadata": {},
   "outputs": [],
   "source": [
    "\n",
    "res.ind <- get_pca_ind(res.pca)\n",
    "res.ind$coord          # Coordinates\n",
    "res.ind$contrib        # Contributions to the PCs\n",
    "res.ind$cos2           # Quality of representation "
   ]
  }
 ],
 "metadata": {
  "kernelspec": {
   "display_name": "R [conda env:r36]",
   "language": "R",
   "name": "conda-env-r36-r"
  },
  "language_info": {
   "codemirror_mode": "r",
   "file_extension": ".r",
   "mimetype": "text/x-r-source",
   "name": "R",
   "pygments_lexer": "r",
   "version": "3.6.1"
  }
 },
 "nbformat": 4,
 "nbformat_minor": 4
}
