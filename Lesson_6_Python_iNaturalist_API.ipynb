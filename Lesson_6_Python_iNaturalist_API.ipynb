{
 "cells": [
  {
   "cell_type": "markdown",
   "metadata": {},
   "source": [
    " ### API iNaturalist  \n",
    " [Подробное описание API](https://api.inaturalist.org/v1/docs/)\n",
    " \n",
    "Через API iNaturalist можно запрашивать информацию по следующим разделам: \n",
    "* наблюдения (Observations)\n",
    "* таксоны (Taxa) \n",
    "* места (Places)\n",
    "* пользователи (Users)\n",
    "* проекты (Projects)\n",
    "* другие (Controlled terms, Identifications, Messages, Posts, Observation Tiles, Polygon Tiles, UTFGrid)\n"
   ]
  },
  {
   "cell_type": "markdown",
   "metadata": {},
   "source": [
    "импортируем необходимую библиотеку"
   ]
  },
  {
   "cell_type": "code",
   "execution_count": 1,
   "metadata": {},
   "outputs": [],
   "source": [
    "from requests import get"
   ]
  },
  {
   "cell_type": "markdown",
   "metadata": {},
   "source": [
    "[Проект - наш биоблиц](https://www.inaturalist.org/projects/bdi-2020)  \n",
    "На примере одной находки посмотрим, на какую территорию она попала https://www.inaturalist.org/observations/61670195\n",
    "\n",
    "В картографической системе iNaturalist для города Екатеринбург есть четыре варианта границ со следующими идентификаторами: 43275 (базовая картография), 146966, 140244 (в пределах ЕКАД), 148545.  \n",
    "Чтобы увидеть все наблюдения для какой-то территории, надо в браузере набрать:  \n",
    "https://www.inaturalist.org/observations?place_id=ID (где ID - это определенный идентификатор территории)."
   ]
  },
  {
   "cell_type": "code",
   "execution_count": 9,
   "metadata": {},
   "outputs": [
    {
     "name": "stdout",
     "output_type": "stream",
     "text": [
      "Данные успешно получены\n"
     ]
    }
   ],
   "source": [
    "baseURL = 'https://api.inaturalist.org/v1/observations'\n",
    "payload = {'project_id':'bdi-2020','place_id':'140244'}\n",
    "result = get(baseURL, payload, timeout = (128,512))\n",
    "    \n",
    "if result.status_code == 200:\n",
    "    print('Данные успешно получены')"
   ]
  },
  {
   "cell_type": "code",
   "execution_count": null,
   "metadata": {},
   "outputs": [],
   "source": []
  }
 ],
 "metadata": {
  "kernelspec": {
   "display_name": "Python 3",
   "language": "python",
   "name": "python3"
  },
  "language_info": {
   "codemirror_mode": {
    "name": "ipython",
    "version": 3
   },
   "file_extension": ".py",
   "mimetype": "text/x-python",
   "name": "python",
   "nbconvert_exporter": "python",
   "pygments_lexer": "ipython3",
   "version": "3.8.3"
  }
 },
 "nbformat": 4,
 "nbformat_minor": 4
}
