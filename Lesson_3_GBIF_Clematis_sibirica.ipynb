{
 "cells": [
  {
   "cell_type": "markdown",
   "metadata": {},
   "source": [
    "## Доступ к данным GBIF при помощи пакета среды статистического программирования R\n",
    "\n",
    "Изначально R появился как язык программирования для статистической обработки данных, а также визуализации самих данных и результатов их обработки, но более чем за 25 лет (с 1993) были написаны сотни пакетов, расширяющих функционал. Многие их них выходят за рамки первоначального назначения R как среды для статистической обработки данных. \n",
    "\n",
    "Среди таких пакетов:  \n",
    "  1.  инструменты для работы с пространственными данными (ГИС):  \n",
    "      [sp](https://cran.r-project.org/web/packages/sp/sp.pdf) - пакет для работы с геоданными,  \n",
    "      [maptools](https://cran.r-project.org/web/packages/maptools/maptools.pdf) - инструмент для составления несложных карт и схем на основе наиболее распространенного векторного формата shapefile,  \n",
    "      [rgdal]() - пакет обеспичивает взаимосвязь с библиотекой GDAL (Geospatial Data Abstraction Library), которая служит для чтения и записи многочисленных векторных и растровых форматов и используется во многих приложениях обработки пространственных данных. \n",
    "    \n",
    "2. Для построения моделей машинного обучения:\n",
    "      caret - одна из первых своего рода  \n",
    "      mlr3 - объектно-ориентированный пакет, [описание на русском](https://habr.com/ru/company/ods/blog/491566/) \n",
    "      [randomForest](https://cran.r-project.org/web/packages/randomForest/randomForest.pdf) - реализация алгоритмов \"случайный лес\" для классификации и регрессионного анализа\n",
    "      \n",
    "... и для многих других направлений\n",
    "      \n",
    "  \n",
    "Есть также пакет для моделирования ареалов - **dismo**  \n",
    "[краткое техническое описание пакета](https://cran.r-project.org/web/packages/dismo/index.html)  \n",
    "[подробное описание от авторов](https://cran.r-project.org/web/packages/dismo/dismo.pdf) (Robert J. Hijmans, Steven Phillips, John Leathwick and Jane Elith)\n",
    "\n",
    "Теперь установим пакет, если он уже установлен, то можно начать сразу со следующего шага и загрузить библиотеку.  \n",
    "Обратите внимение, что вместе с 'dismo' будут установлены и загружены пакеты 'raster' и 'sp', так как 'dismo' использует некоторые функции этих двух пакетов."
   ]
  },
  {
   "cell_type": "code",
   "execution_count": null,
   "metadata": {},
   "outputs": [],
   "source": [
    "install.packages('dismo')"
   ]
  },
  {
   "cell_type": "code",
   "execution_count": null,
   "metadata": {},
   "outputs": [],
   "source": [
    "library('dismo')"
   ]
  },
  {
   "cell_type": "markdown",
   "metadata": {},
   "source": [
    "Пакет **dismo** помимо, собственно, реализации различных алгоритмов моделирования ареалов (Convex Hull, MaxEnt, ...), имеет дополнительные функции по обработке данных.  \n",
    "\n",
    "Также есть функция, которая позволяет поличить данные из GBIF, она так и называется - 'gbif()'\n",
    "\n",
    "Перед началом получения данных, авторы настоятельно советуют ознакомиться с [правилами использования данных GBIF](https://www.gbif.org/terms)\n",
    "\n",
    "Возмем, например, [Княжик в качестве примера](https://www.gbif.org/species/7277760), интересен от тем, что его находки в GBIF происходят в основном с территории России.\n",
    "\n",
    "Параметры функции gbif() означают следующее:  \n",
    "мы запращиваем в GBIF точки\n",
    "\n",
    "для рода *Clematis* - это обязательный параметр,  \n",
    "\n",
    "вида *sibirica* - если видовой этитет убрать или указать '*', то будут запрошены находки для всех видов данного рода,\n",
    "\n",
    "для которых указаны географические координаты 'geo=TRUE',  \n",
    "\n",
    "при этом точки, для которых одна из координат равна 0 удаляются 'removeZeros=TRUE',  \n",
    "\n",
    "и для начала запрашивается только число записей, а не вся информация с ними связанная 'download=FALSE'\n",
    "так как загрузка данных запимает какое-то время и этот процесс для нескольких тысяч записей может растянуться на несколько минут\n",
    "\n",
    "Теперь собственно запустим запрос к GBIF. \n",
    "После чего для сравнения попробуйте запросить число находок только для всего рода *Clematis*"
   ]
  },
  {
   "cell_type": "code",
   "execution_count": null,
   "metadata": {},
   "outputs": [],
   "source": [
    "gbif('Clematis', 'sibirica', geo=TRUE, removeZeros=TRUE, download=FALSE)"
   ]
  },
  {
   "cell_type": "markdown",
   "metadata": {},
   "source": [
    "Теперь поменяем параметр 'download' и все данные о точнах находок княжика сибирского запишем в переменную."
   ]
  },
  {
   "cell_type": "code",
   "execution_count": null,
   "metadata": {},
   "outputs": [],
   "source": [
    "raw <- gbif('Clematis', 'sibirica', geo=TRUE, removeZeros=TRUE, download=TRUE)"
   ]
  },
  {
   "cell_type": "markdown",
   "metadata": {},
   "source": [
    "Теперь посмотрим какие данные получены, для это поочередно выполним команды, которые выведут на экран:  \n",
    "\n",
    "тип объекта,\n",
    "загодовки полей и N первых записей,  \n",
    "и структуру"
   ]
  },
  {
   "cell_type": "code",
   "execution_count": null,
   "metadata": {},
   "outputs": [],
   "source": [
    "class(raw)\n",
    "head(raw,10)"
   ]
  },
  {
   "cell_type": "code",
   "execution_count": null,
   "metadata": {},
   "outputs": [],
   "source": [
    "str(raw)"
   ]
  },
  {
   "cell_type": "markdown",
   "metadata": {},
   "source": [
    "Как мы видим, переменная *raw* представляет собой таблицу с полями разного типа данных ('data frame').  \n",
    "Теперь посмотрим список названий полей, в данном случае это будут термины Darwin Core.  \n",
    "Краткое описание терминов можно найти в [справочнике TDWG - Darwin Core quick reference guide](https://dwc.tdwg.org/terms/)"
   ]
  },
  {
   "cell_type": "code",
   "execution_count": null,
   "metadata": {},
   "outputs": [],
   "source": [
    "colnames(raw)"
   ]
  },
  {
   "cell_type": "markdown",
   "metadata": {},
   "source": [
    "Как мы видим, полей в таблице очень много, скорее всего большинство из них не понадобятся, а какие-то не содержат никаких значений, отличных от 'null'.  \n",
    "Поэтому на следующем этапе есть смысл выбрать только необходимые поля.  \n",
    "В данном случае "
   ]
  },
  {
   "cell_type": "code",
   "execution_count": null,
   "metadata": {},
   "outputs": [],
   "source": [
    "records <- data.frame(\n",
    "    idNum = c(raw$gbifID),\n",
    "    species = c(raw$acceptedScientificName),\n",
    "    latitude = c(raw$lat),\n",
    "    longitude = c(raw$lon),\n",
    "    year = c(raw$year),\n",
    "    coordUncer = c(raw$coordinateUncertaintyInMeters)    \n",
    ")"
   ]
  },
  {
   "cell_type": "markdown",
   "metadata": {},
   "source": [
    "Посмотрим что получилось"
   ]
  },
  {
   "cell_type": "code",
   "execution_count": null,
   "metadata": {},
   "outputs": [],
   "source": [
    "head(records,3)\n",
    "colnames(records)\n",
    "summary(records)"
   ]
  },
  {
   "cell_type": "markdown",
   "metadata": {},
   "source": [
    "Обратите внимание на то, что в data frame всё ещё есть записи с пустими значениями широты (latutide) и долготы (longitude) - 'NA'.   \n",
    "Оставим записи только те записи, для которых есть оба значения (широта и долгота).  \n",
    "Отфильтруем некорректные значения путем индексации.\n",
    "\n",
    "Обратите внимание на то, что на каждом этапе преозразований появляется ноное название переменной, это очень важно для того, чтобы не потерять промежуточные результаты и, при необходимости, можно было начать с любого предыдущего этапа, поменяв какие-то условия."
   ]
  },
  {
   "cell_type": "code",
   "execution_count": null,
   "metadata": {},
   "outputs": [],
   "source": [
    "records.georef <- records[-which(is.na(records$longitude) | is.na(records$latitude)), ]\n",
    "nrow(records.georef)\n",
    "summary(records.georef)"
   ]
  },
  {
   "cell_type": "markdown",
   "metadata": {},
   "source": [
    "Теперь можно увидеть, что значений 'NA' для широты и долготы более нет.\n",
    "Запишем data frame в том состоянии, которые есть в CSV файл.\n",
    "После чего можно сохранить новый файл с таблицей на локальный диск и открыть в табличном редакторе, например, MicroSoft Excel или LibreOffice Calc."
   ]
  },
  {
   "cell_type": "code",
   "execution_count": null,
   "metadata": {},
   "outputs": [],
   "source": [
    "write.csv(records.georef, file=\"clematis_sibirica.csv\", row.names=TRUE)"
   ]
  },
  {
   "cell_type": "markdown",
   "metadata": {},
   "source": [
    "Кроме самой географической привязки, очень важное значение имеет оценка неточности географических координат, выраженная в метрах (Coordinate Uncertainty).  \n",
    "Значение этой переменной может варьировать от первых метров, если для привязки использовали спутниковый навигатор до десятков километров, в случае находок по этикетками с очень общей географической привязкой.  \n",
    "Но во многих случаях это значение будет просто отсутствовать. \n",
    "На следующем этапе посмотрим минимальное и максимальное значение неопределенности координат, после чего выберем данные, неточность привязки которых не превышает 500 м. \n",
    "При этом координаты с отсутствием оценки неточности не учитываем."
   ]
  },
  {
   "cell_type": "code",
   "execution_count": null,
   "metadata": {},
   "outputs": [],
   "source": [
    "records.georef.unc <- records.georef[-which(is.na(records.georef$coordUncer)),]\n",
    "min(records.georef.unc$coordUncer)\n",
    "max(records.georef.unc$coordUncer)\n",
    "climatis <- records.georef.unc[records.georef.unc$coordUncer <= 500, ]"
   ]
  },
  {
   "cell_type": "code",
   "execution_count": null,
   "metadata": {},
   "outputs": [],
   "source": [
    "summary(climatis)"
   ]
  },
  {
   "cell_type": "markdown",
   "metadata": {},
   "source": [
    "Следует обратить внимание на то, что значения 'NA' для года теперь также отсутствуют.\n",
    "\n",
    "Теперь визуализируем отобранные данные - построим гистограмму распределения значений неопределенности для оценки качества данных."
   ]
  },
  {
   "cell_type": "code",
   "execution_count": null,
   "metadata": {},
   "outputs": [],
   "source": [
    "hist(climatis$coordUncer,\n",
    "     xlab='неопределенность координат',\n",
    "     ylab='число находок',\n",
    "     main='Неопределенность координат в метрах', \n",
    "     breaks = 24,\n",
    "     col = 'bisque'\n",
    ")"
   ]
  },
  {
   "cell_type": "markdown",
   "metadata": {},
   "source": [
    "Далее посмотрим распределение находок по годам. \n",
    "Минимальное, максимальное значение и гистограмма."
   ]
  },
  {
   "cell_type": "code",
   "execution_count": null,
   "metadata": {},
   "outputs": [],
   "source": [
    "min(climatis$year)\n",
    "max(climatis$year)\n",
    "\n",
    "hist(climatis$year,\n",
    "     xlab='год',\n",
    "     ylab='число записей',\n",
    "     main='Находки Clematis sibirica (все годы)', \n",
    "     breaks = 25,\n",
    "     col = 'darkseagreen1'\n",
    ")"
   ]
  },
  {
   "cell_type": "markdown",
   "metadata": {},
   "source": [
    "Как видим, большинство находок приходится на предыдущие 20 лет. \n",
    "\n",
    "\n",
    "### Карта находок _Clematis sibirica_ Mill.\n",
    "Теперь визуализируем пространственное распределение находок княжика сибирского. \n",
    "Сначала выведем значения максимальных и минимальных координат по широте и долготе,  \n",
    "после чего построим карту-схему при помощи пакета (для этого пакет надо установить и загрузить)"
   ]
  },
  {
   "cell_type": "code",
   "execution_count": null,
   "metadata": {},
   "outputs": [],
   "source": [
    "install.packages('maptools')"
   ]
  },
  {
   "cell_type": "code",
   "execution_count": null,
   "metadata": {},
   "outputs": [],
   "source": [
    "library('maptools')\n",
    "\n",
    "min(climatis$latitude)\n",
    "max(climatis$latitude)\n",
    "\n",
    "min(climatis$longitude)\n",
    "max(climatis$longitude)"
   ]
  },
  {
   "cell_type": "markdown",
   "metadata": {},
   "source": [
    "Минимальные и максимальные значения координат используем, чтобы задать границы карты-схемы."
   ]
  },
  {
   "cell_type": "code",
   "execution_count": null,
   "metadata": {},
   "outputs": [],
   "source": [
    "data(wrld_simpl)\n",
    "plot(wrld_simpl, xlim=c(10,162), ylim=c(42,72), axes=TRUE, col=\"lavenderblush\")\n",
    "box()\n",
    "points(climatis$longitude, climatis$latitude, col=\"hotpink2\", pch=20, cex=0.8)"
   ]
  },
  {
   "cell_type": "markdown",
   "metadata": {},
   "source": [
    "Полученную схему можно сохранить в виде графического файла.  \n",
    "Для этого надо выполнить команду 'Create New View for Output' из контекстного меню, после чего сохранить изобнажение появившееся в новом окне.  \n",
    "\n",
    "\n",
    "Карту распространения целевого вида можно также составить в открытом ГИС ПО QGIS.  \n",
    "Для этого надо создать векторный слой из файла CSV, который был сохранен на предыдущих этапах.  \n",
    "\n",
    "Убедившись, что с полученными данными всё в порядке, сохраняем еще один вариант таблицы CSV."
   ]
  },
  {
   "cell_type": "code",
   "execution_count": null,
   "metadata": {},
   "outputs": [],
   "source": [
    "write.csv(climatis, file=\"clematis_sibirica_georef.csv\", row.names=TRUE)"
   ]
  },
  {
   "cell_type": "markdown",
   "metadata": {},
   "source": [
    "#### В результате\n",
    "на примере находок вида _Clematis sibirica_, полученных черех портал GBIF была выполненна проверка и фильтрация данных (Data Cleaning) относительно значений географических координат:  \n",
    "1. Выбраны точки только с координатами.\n",
    "2. Исключены нулевые значения, которые обычно ошибочно ставят вместо утерянного.\n",
    "3. Выбраны точки с неопределенностью координат на более установленного порога.\n",
    "\n",
    "Подробнее об оценке точности координат, способах и сложностях привязки, с и прочих вопросах, связанных с геопривязкой можно можно прочитать в следующих руководствах:  \n",
    "[A.D. Chapman, J.R Wieczorek. Georeferencing, 2017](https://www.gbif.org/document/80536/biogeomancer-guide-to-best-practices-in-georeferencing)  \n",
    "[P.F. Zermoglio, A.D. Chapman, J.R. Wieczorek. Georeferencing Quick Reference Guide, 2019, draft](http://georeferencing.org/georefcalculator/docs/GeoreferencingQuickReferenceGuide.pdf)  \n",
    "[A.D. Chapman, J.R Wieczorek. Georeferencing Best Practices, 2020](http://mb.gbif.org/documents/doc-georeferencing-best-practices/en/)  \n",
    "\n"
   ]
  },
  {
   "cell_type": "markdown",
   "metadata": {},
   "source": [
    "Результаты необходимо сохранить в своей учетной записи в ecocloud, для этого необходимо загрузить блокнот и полученный CSV файл на локальный компьетер, а затем отправить файл в своё [рабочее пространство (workspace)](https://app.ecocloud.org.au/workspace).\n",
    "Таблицу с находками далее будем использовать для моделирования ареалов в среде [The Biodiversity and Climate Change Virtual Laboratory](http://bccvl.org.au/). "
   ]
  },
  {
   "cell_type": "markdown",
   "metadata": {},
   "source": [
    "#### Задание для самостоятельной работы\n",
    "Используя данный вычислительный блокнот как образец, получить данные для трех других видов, с которыми так или иначе связана ваша научная деятельность. Для каждого вида сохранить блокнот, файлы CSV с находками, гистограммы распределения точности координат и годов, а также карту-схему находок.  \n",
    "Границу значений неопределенности координат можно изменять произвольно."
   ]
  },
  {
   "cell_type": "markdown",
   "metadata": {},
   "source": [
    "#### Внимание !!!\n",
    "Следует иметь в виду, что полученные таким образом данные можно использовать для ознакомления с самими данными, для освоения методов работы с данными и разнообразных вычислений.   \n",
    "Но когда дело дойдет до научной публикации, надо будет сформировать пользовательский набор данных на портале GBIF (в теми же критериями отбора находок).  \n",
    "Это необходимо сделать, чтобы получить DOI, по которому можно будет сослаться на исходные данные при публикации научной работы.\n",
    "\n",
    "Если возникнут вопросы - пишите на адрес конференции ***bdi@pbcras.ru*** с темой письма ***мастер-класс 2***"
   ]
  }
 ],
 "metadata": {
  "kernelspec": {
   "display_name": "R [conda env:r36]",
   "language": "R",
   "name": "conda-env-r36-r"
  },
  "language_info": {
   "codemirror_mode": "r",
   "file_extension": ".r",
   "mimetype": "text/x-r-source",
   "name": "R",
   "pygments_lexer": "r",
   "version": "3.6.1"
  }
 },
 "nbformat": 4,
 "nbformat_minor": 4
}
