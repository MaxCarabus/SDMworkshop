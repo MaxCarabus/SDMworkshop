{
 "cells": [
  {
   "cell_type": "markdown",
   "metadata": {},
   "source": [
    "## Пакет rgbif\n",
    "\n",
    "[Краткое описание пакета на портале GBIF](https://www.gbif.org/tool/81747/rgbif)  \n",
    "[Описание пакета в проект CRAN](https://cran.r-project.org/web/packages/rgbif/rgbif.pdf)  \n",
    "[краткое описание пакета в официальном репозитории CRAN](https://cran.r-project.org/web/packages/rgbif/index.html)  \n",
    "[Руководство к актуальной версии 3.3.0 от 8 сентября 2020 года  - ENGLISH](https://cran.r-project.org/web/packages/rgbif/rgbif.pdf)"
   ]
  },
  {
   "cell_type": "code",
   "execution_count": null,
   "metadata": {},
   "outputs": [],
   "source": [
    "install.packages(\"rgbif\")"
   ]
  },
  {
   "cell_type": "markdown",
   "metadata": {},
   "source": [
    "Пакет **rgbif** также является часть другого пакета [**spocc (SPesies OCCurrence)**](https://github.com/ropensci/spocc),  \n",
    "который позволяет получать находки видов сразу из нескольких источников данных:\n",
    "1. [Global Biodiversity Information Facility (GBIF)](https://www.gbif.org/)\n",
    "2. [Berkeley Ecoengine](https://ecoengine.berkeley.edu/)\n",
    "3. [iNaturalist](https://www.inaturalist.org/)\n",
    "4. [VertNet](https://www.vertnet.org/)\n",
    "5. [Biodiversity Information Serving Our Nation (BISON)](https://bison.usgs.gov/)\n",
    "6. [eBird](https://ebird.org/)\n",
    "7. [iDigBio](https://www.idigbio.org/)\n",
    "8. [Ocean Biodiversity Information System](https://obis.org/)\n",
    "9. [Atlas of Living Australia](https://www.ala.org.au/)\n",
    "\n",
    "Разработка началась в 2016 году, актуальная версия пакета **spocc** (1.1.0) вышла 31 июля 2020 года.  \n",
    "Пакет **spocc** является частью проекта [**rOpenSci**](https://ropensci.org/), направленного на развитие технической инфраструктуры для работы с открытыми данными"
   ]
  },
  {
   "cell_type": "code",
   "execution_count": null,
   "metadata": {},
   "outputs": [],
   "source": [
    "install.packages(\"spocc\")"
   ]
  },
  {
   "cell_type": "code",
   "execution_count": null,
   "metadata": {},
   "outputs": [],
   "source": [
    "library(rgbif)"
   ]
  },
  {
   "cell_type": "markdown",
   "metadata": {},
   "source": [
    "Пакет работатает с программным интерфейсом (API) портала GBIF и позволяет автоматизировать извлечение необходимой информации. Во многих случаях это будет быстрее и удобнее, чем через интерфейс GBIF.org.\n",
    "Более 50 функций пакета rgbif позволяют искать информацию о таксонах; запрашивать информацию об организациях, публикующих данные; получать сводную и подробную информацию о находках, а также строить растровые схемы пространственного распределения находок того или иного вида или группы видов."
   ]
  },
  {
   "cell_type": "markdown",
   "metadata": {},
   "source": [
    "Начнем с простого - запросим сведения о числе находок, индексированных в информационной системе. Для этого есть функция `occ_count()`, если аргументы не задавать - получим общее число находок."
   ]
  },
  {
   "cell_type": "code",
   "execution_count": null,
   "metadata": {},
   "outputs": [],
   "source": [
    "occ_count()"
   ]
  },
  {
   "cell_type": "markdown",
   "metadata": {},
   "source": [
    "Из них имеющих географическую привязку:"
   ]
  },
  {
   "cell_type": "code",
   "execution_count": null,
   "metadata": {},
   "outputs": [],
   "source": [
    "occ_count(georeferenced=TRUE)"
   ]
  },
  {
   "cell_type": "markdown",
   "metadata": {},
   "source": [
    "% геопривязанных находок"
   ]
  },
  {
   "cell_type": "code",
   "execution_count": null,
   "metadata": {},
   "outputs": [],
   "source": [
    "total = occ_count()\n",
    "georef = occ_count(georeferenced=TRUE)\n",
    "round(georef / total,4)*100"
   ]
  },
  {
   "cell_type": "markdown",
   "metadata": {},
   "source": [
    "Находок для территории России"
   ]
  },
  {
   "cell_type": "code",
   "execution_count": null,
   "metadata": {},
   "outputs": [],
   "source": [
    "occ_count(country = 'RU')"
   ]
  },
  {
   "cell_type": "markdown",
   "metadata": {},
   "source": [
    "% геопривязанных находок из России"
   ]
  },
  {
   "cell_type": "code",
   "execution_count": null,
   "metadata": {},
   "outputs": [],
   "source": [
    "total = occ_count(country = 'RU')\n",
    "georef = occ_count(georeferenced=TRUE,country = 'RU')\n",
    "round(georef / total,4)*100"
   ]
  },
  {
   "cell_type": "markdown",
   "metadata": {},
   "source": [
    "Построим график публикационной активности (по числу находок) по годам.  \n",
    "Для этого используем возможность построения цикла в R.  \n",
    "Для этого используем аргументы `publishingCountry` и `year`"
   ]
  },
  {
   "cell_type": "code",
   "execution_count": null,
   "metadata": {},
   "outputs": [],
   "source": [
    "yearcount = 0\n",
    "years = 0\n",
    "startyear = 1950\n",
    "currentyear = 2020\n",
    "\n",
    "for(i in startyear:currentyear) {\n",
    "    occurs = occ_count(country = 'RU', year = i)  \n",
    "    yearcount[i-startyear] = occurs\n",
    "    years[i-startyear] = i\n",
    "}"
   ]
  },
  {
   "cell_type": "code",
   "execution_count": null,
   "metadata": {},
   "outputs": [],
   "source": [
    "plot(yearcount, type = 'l', col = 'green', ylab = 'number of occurrences')\n",
    "axis(2, labels = years)"
   ]
  },
  {
   "cell_type": "markdown",
   "metadata": {},
   "source": [
    "Попробуйте сделать то же самое для других стран. Двузначный код страны следует указывать согласно международному стандарту [**ISO 3166-1 alpha-2**](https://en.wikipedia.org/wiki/ISO_3166-1_alpha-2)"
   ]
  },
  {
   "cell_type": "markdown",
   "metadata": {},
   "source": [
    "Обычно в GBIF обращаются, чтобы получить сведения о распространении какого-то вида, т.е. получить набор точек для дальнейшего анализа. Для отого необходимо знать идентификатор нужного таксона. Для этого есть функция `name_backbone`. При запросе идентификатора любого таксона желательно указывать ранг таксона.\n",
    "Список рангов таксонов, которые предусмотрены в GBIF можно получить следующей командой (без аргументов)."
   ]
  },
  {
   "cell_type": "code",
   "execution_count": null,
   "metadata": {},
   "outputs": [],
   "source": [
    "taxrank()"
   ]
  },
  {
   "cell_type": "markdown",
   "metadata": {},
   "source": [
    "Проверяем название по таксономической базе [GBIF Backbone Taxonomy](https://www.gbif.org/dataset/d7dddbf4-2cf0-4f39-9b2a-bb099caae36c)"
   ]
  },
  {
   "cell_type": "code",
   "execution_count": null,
   "metadata": {},
   "outputs": [],
   "source": [
    "name_backbone('Linnaea borealis', rank = 'species')"
   ]
  },
  {
   "cell_type": "markdown",
   "metadata": {},
   "source": [
    "Если результат устраивает - сохраняем идентификатор таксона в переменную `spKey`"
   ]
  },
  {
   "cell_type": "code",
   "execution_count": null,
   "metadata": {},
   "outputs": [],
   "source": [
    "spKey = name_backbone('Linnaea borealis', rank = 'species')$usageKey\n",
    "spKey"
   ]
  },
  {
   "cell_type": "markdown",
   "metadata": {},
   "source": [
    "Ради интереса можно посмотреть названия вида на национальных языках"
   ]
  },
  {
   "cell_type": "code",
   "execution_count": null,
   "metadata": {},
   "outputs": [],
   "source": [
    "name_usage(key = 5334220, language = 'eng', data = 'vernacularNames')$data"
   ]
  },
  {
   "cell_type": "markdown",
   "metadata": {},
   "source": [
    "Есть встроенная функция построения растровой карты:"
   ]
  },
  {
   "cell_type": "code",
   "execution_count": null,
   "metadata": {},
   "outputs": [],
   "source": [
    "x <- map_fetch(taxonKey = spKey)\n",
    "library(raster)\n",
    "plot(x, xlim = c(-180,180), ylim = c(-90,90))"
   ]
  },
  {
   "cell_type": "code",
   "execution_count": null,
   "metadata": {},
   "outputs": [],
   "source": [
    "name_backbone(\"Clematis sibirica\")"
   ]
  },
  {
   "cell_type": "code",
   "execution_count": null,
   "metadata": {},
   "outputs": [],
   "source": [
    "spKey = name_backbone(\"Clematis sibirica\")$usageKey\n",
    "spKey"
   ]
  },
  {
   "cell_type": "markdown",
   "metadata": {},
   "source": [
    "Прежде чем получить список находок, рекомендуется проверить их количество.  \n",
    "Для наглядности можно построить круговую диаграмму с привязанными и непривязанными находками."
   ]
  },
  {
   "cell_type": "markdown",
   "metadata": {},
   "source": [
    "Максимум значений, которые можно получить при помощи функции `occ_search()` и `occ_data()` 100,000.  \n",
    "Но сначала желательно проверить число записей при помощи функции `occ_count()`"
   ]
  },
  {
   "cell_type": "code",
   "execution_count": null,
   "metadata": {},
   "outputs": [],
   "source": [
    "occ_count(taxonKey = 7277760)\n",
    "occ_count(taxonKey = 7277760, georeferenced=TRUE)"
   ]
  },
  {
   "cell_type": "code",
   "execution_count": null,
   "metadata": {},
   "outputs": [],
   "source": [
    "pie(c(occ_count(taxonKey = 7277760, georeferenced=TRUE), occ_count(taxonKey = 7277760, georeferenced=FALSE)), \n",
    "    main = 'Число находок Clematis sibirica',\n",
    "labels = c('геопривязанные','без координат'),\n",
    "      col = c('cyan','bisque'))"
   ]
  },
  {
   "cell_type": "code",
   "execution_count": null,
   "metadata": {},
   "outputs": [],
   "source": [
    "z <- name_lookup(query='Clematis sibirica', rank=\"species\")\n",
    "z$data"
   ]
  },
  {
   "cell_type": "markdown",
   "metadata": {},
   "source": [
    "Для того, чтобы выбрать необходимые поля, используем [Darwin Core Quick Reference Guide](https://dwc.tdwg.org/terms/)\n",
    "Надо указывать limit, так как по умолчанию выдаёт 500 находок"
   ]
  },
  {
   "cell_type": "code",
   "execution_count": null,
   "metadata": {},
   "outputs": [],
   "source": [
    "occurs = occ_search(taxonKey = 7277760,fields='minimal', limit = 10000)$data"
   ]
  },
  {
   "cell_type": "code",
   "execution_count": null,
   "metadata": {},
   "outputs": [],
   "source": [
    "names(occurs)"
   ]
  },
  {
   "cell_type": "code",
   "execution_count": null,
   "metadata": {},
   "outputs": [],
   "source": [
    "nrow(occurs)"
   ]
  }
 ],
 "metadata": {
  "kernelspec": {
   "display_name": "R [conda env:r36]",
   "language": "R",
   "name": "conda-env-r36-r"
  },
  "language_info": {
   "codemirror_mode": "r",
   "file_extension": ".r",
   "mimetype": "text/x-r-source",
   "name": "R",
   "pygments_lexer": "r",
   "version": "3.6.1"
  }
 },
 "nbformat": 4,
 "nbformat_minor": 4
}
