{
 "cells": [
  {
   "cell_type": "markdown",
   "metadata": {},
   "source": [
    "Работаем с [API GBIF](https://www.gbif.org/developer/summary)\n",
    "API (программный интерфейс приложения, интерфейс прикладного программирования)  \n",
    "[Что такое JSON](https://www.hostinger.ru/rukovodstva/chto-takoe-json/)  \n",
    "test"
   ]
  },
  {
   "cell_type": "code",
   "execution_count": 1,
   "metadata": {},
   "outputs": [],
   "source": [
    "from requests import get"
   ]
  },
  {
   "cell_type": "markdown",
   "metadata": {},
   "source": [
    "### 10 свежих наборов данных"
   ]
  },
  {
   "cell_type": "code",
   "execution_count": 2,
   "metadata": {},
  
   "source": [
    "baseURL = 'https://api.gbif.org/v1/dataset'\n",
    "payload = {'country':'RU','limit':10}\n",
    "result = get(baseURL, payload, timeout = (128,512))\n",
    "if result.status_code == 200:\n",
    "    print('Данные успешно получены')"
   ]
  },
  {
   "cell_type": "code",
   "execution_count": 5,
   "metadata": {},
   "outputs": [
    {
     "name": "stdout",
     "output_type": "stream",
     "text": [
      "Всего наборов данных, опубликованных российскими организациями: 369\n"
     ]
    }
   ],
   "source": [
    "full = result.json()\n",
    "print('Всего наборов данных, опубликованных российскими организациями: ' + str(full['count']))"
   ]
  },
  {
   "cell_type": "code",
   "execution_count": 6,
   "metadata": {},
   "outputs": [
    {
     "name": "stdout",
     "output_type": "stream",
     "text": [
      "получены сведения о 10 наборах данных\n"
     ]
    }
   ],
   "source": [
    "datasets = full['results']\n",
    "print ('получены сведения о ' + str(len(datasets)) + ' наборах данных')"
   ]
  },
  {
   "cell_type": "code",
   "execution_count": 7,
   "metadata": {},
   "outputs": [
    {
     "name": "stdout",
     "output_type": "stream",
     "text": [
      "SAMPLING_EVENT\n",
      "Carabidae surveys from the Chronicle of Nature of the Prioksko-Terrasnyi Biosphere Reserve\n",
      "Prioksko-Terrasnyi Biosphere Nature Reserve\n",
      "2020-09-29\n",
      "6331c28e-9bc0-4f42-9721-9d5b85b591a9\n",
      "10.15468/4yvbbw\n",
      "\n",
      "OCCURRENCE\n",
      "Distribution of xylotrophic fungi of the genus Daedaleopsis in the Asian part of Russia from 1978 to 2019\n",
      "Vegetation & Mycobiota Biodiversity Lab; Institute of Plant and Animal Ecology, Ural Branch of Russian Academy of Sciences\n",
      "2020-09-17\n",
      "06a9f1b6-cadc-4617-adb4-32ce7800775b\n",
      "10.15468/m4hk49\n",
      "\n",
      "OCCURRENCE\n",
      "Genus Salix at the CSBG SB RAS Digital Herbarium\n",
      "Central Siberian Botanical Garden SB RAS\n",
      "2020-09-07\n",
      "42a55f11-4aeb-46cd-b7e0-b6cff2eef92b\n",
      "10.15468/6f3ybc\n",
      "\n",
      "SAMPLING_EVENT\n",
      "Description of vegetation plots with Iris aphylla L. in European Russia\n",
      "Institute of Geography, Russian Academy of Sciences\n",
      "2020-08-31\n",
      "514dc3dd-4723-48a6-a219-8a9ea062a537\n",
      "10.15468/hw7dhs\n",
      "\n",
      "SAMPLING_EVENT\n",
      "Carabid beetles of the environs of the Elton Lake: fauna, population dynamics, demography\n",
      "MPGU\n",
      "2020-08-30\n",
      "81a55a32-e89b-4959-8e49-0481c4d31973\n",
      "10.15468/a8weeh\n",
      "\n",
      "SAMPLING_EVENT\n",
      "Communities of ground beetles (Carabidae, Coleoptera) in  broad-leaved forests of protected and urban areas of the Kaluga Oblast (European Russia)\n",
      "Institute of Physicochemical and Biological Problems of Soil Science RAS\n",
      "2020-08-30\n",
      "892a2c22-d234-4e74-a3b7-d1fb82fc731b\n",
      "10.15468/3d5fh4\n",
      "\n",
      "OCCURRENCE\n",
      "The Ranunculaceae of Herbarium named after prof. B.M. Kozo-Polyansky VSU\n",
      "Voronezh state university\n",
      "2020-08-27\n",
      "6902be25-fe92-4519-a80b-a000b4b1348d\n",
      "10.15468/xyqng3\n",
      "\n",
      "SAMPLING_EVENT\n",
      "Collembola of broadleaved forests along gradient of urbanization in Moscow\n",
      "Moscow State Pedagogical University, Institute of Biology and Chemistry, Zoology and Ecology Dpt.\n",
      "2020-08-25\n",
      "336e3eb6-0ed7-46a7-8a13-1faec0d3f8f2\n",
      "10.15468/e25d3s\n",
      "\n",
      "SAMPLING_EVENT\n",
      "Collembola of winter wheat fields in the Kaluga Region: conservation treatment versus conventional one\n",
      "Moscow State Pedagogical University, Institute of Biology and Chemistry, Zoology and Ecology Dpt.\n",
      "2020-08-25\n",
      "575c5097-521d-47ef-908b-cc659ff249f4\n",
      "10.15468/rv6g98\n",
      "\n",
      "OCCURRENCE\n",
      "Soil invertebrates occurrences in European North-East of Russia\n",
      "Institute of Biology of Komi Scientific Centre of theInstitute of Biology of Komi Scientific Centre of the Ural Branch of the Russian Academy of Sciences\n",
      "2020-08-25\n",
      "a3f7d0d8-d9e1-42ae-b1f7-d1fc445b931d\n",
      "10.15468/5a8ydf\n",
      "\n"
     ]
    }
   ],
   "source": [
    "for dataset in datasets:    \n",
    "    print(dataset['type'])\n",
    "    print(dataset['title'])    \n",
    "    print(dataset['contacts'][0]['organization'])\n",
    "    print(dataset['created'][0:10])\n",
    "    print(dataset['key'])\n",
    "    print(dataset['doi'])\n",
    "    print()"
   ]
  },
  {
   "cell_type": "markdown",
   "metadata": {},
   "source": [
    "### Находки вида"
   ]
  },
  {
   "cell_type": "code",
   "execution_count": 12,
   "metadata": {},
   "outputs": [
    {
     "name": "stdout",
     "output_type": "stream",
     "text": [
      "Данные от таксоне Clematis sibirica успешно получены\n"
     ]
    }
   ],
   "source": [
    "baseURL = 'https://api.gbif.org/v1/species'\n",
    "species = 'Clematis sibirica'\n",
    "payload = {'name':species,'limit':128}\n",
    "result = get(baseURL, payload, timeout = (128,512))\n",
    "if result.status_code == 200:\n",
    "    print('Данные от таксоне '+species+' успешно получены')"
   ]
  },
  {
   "cell_type": "code",
   "execution_count": 9,
   "metadata": {},
   "outputs": [
    {
     "name": "stdout",
     "output_type": "stream",
     "text": [
      "Всего записей: 14\n"
     ]
    }
   ],
   "source": [
    "full = result.json()\n",
    "names = full['results']\n",
    "print('Всего записей: ' + str(len(names)))"
   ]
  },
  {
   "cell_type": "markdown",
   "metadata": {},
   "source": [
    "Выведем первую запись - это будет объект JSON"
   ]
  },
  {
   "cell_type": "code",
   "execution_count": 16,
   "metadata": {},
   "outputs": [
    {
     "data": {
      "text/plain": [
       "{'key': 7277760,\n",
       " 'nubKey': 7277760,\n",
       " 'nameKey': 2587920,\n",
       " 'taxonID': 'gbif:7277760',\n",
       " 'sourceTaxonKey': 153823318,\n",
       " 'kingdom': 'Plantae',\n",
       " 'phylum': 'Tracheophyta',\n",
       " 'order': 'Ranunculales',\n",
       " 'family': 'Ranunculaceae',\n",
       " 'genus': 'Clematis',\n",
       " 'species': 'Clematis sibirica',\n",
       " 'kingdomKey': 6,\n",
       " 'phylumKey': 7707728,\n",
       " 'classKey': 220,\n",
       " 'orderKey': 399,\n",
       " 'familyKey': 2410,\n",
       " 'genusKey': 3033512,\n",
       " 'speciesKey': 7277760,\n",
       " 'datasetKey': 'd7dddbf4-2cf0-4f39-9b2a-bb099caae36c',\n",
       " 'constituentKey': '7ddf754f-d193-4cc9-b351-99906754a03b',\n",
       " 'parentKey': 3033512,\n",
       " 'parent': 'Clematis',\n",
       " 'scientificName': 'Clematis sibirica Mill.',\n",
       " 'canonicalName': 'Clematis sibirica',\n",
       " 'authorship': 'Mill.',\n",
       " 'nameType': 'SCIENTIFIC',\n",
       " 'rank': 'SPECIES',\n",
       " 'origin': 'SOURCE',\n",
       " 'taxonomicStatus': 'ACCEPTED',\n",
       " 'nomenclaturalStatus': [],\n",
       " 'remarks': '',\n",
       " 'numDescendants': 2,\n",
       " 'lastCrawled': '2019-09-06T05:41:48.812+0000',\n",
       " 'lastInterpreted': '2019-09-06T05:37:30.593+0000',\n",
       " 'issues': [],\n",
       " 'synonym': False,\n",
       " 'class': 'Magnoliopsida'}"
      ]
     },
     "execution_count": 16,
     "metadata": {},
     "output_type": "execute_result"
    }
   ],
   "source": [
    "names[0]"
   ]
  },
  {
   "cell_type": "code",
   "execution_count": 17,
   "metadata": {},
   "outputs": [
    {
     "name": "stdout",
     "output_type": "stream",
     "text": [
      "7277760\n",
      "Clematis sibirica Mill.\n",
      "SPECIES\n",
      "ACCEPTED\n",
      "101268039\n",
      "Clematis sibirica Mill.\n"
     ]
    },
    {
     "ename": "KeyError",
     "evalue": "'rank'",
     "output_type": "error",
     "traceback": [
      "\u001b[0;31m---------------------------------------------------------------------------\u001b[0m",
      "\u001b[0;31mKeyError\u001b[0m                                  Traceback (most recent call last)",
      "\u001b[0;32m<ipython-input-17-682940440e43>\u001b[0m in \u001b[0;36m<module>\u001b[0;34m\u001b[0m\n\u001b[1;32m      2\u001b[0m     \u001b[0mprint\u001b[0m\u001b[0;34m(\u001b[0m\u001b[0mname\u001b[0m\u001b[0;34m[\u001b[0m\u001b[0;34m'key'\u001b[0m\u001b[0;34m]\u001b[0m\u001b[0;34m)\u001b[0m\u001b[0;34m\u001b[0m\u001b[0;34m\u001b[0m\u001b[0m\n\u001b[1;32m      3\u001b[0m     \u001b[0mprint\u001b[0m\u001b[0;34m(\u001b[0m\u001b[0mname\u001b[0m\u001b[0;34m[\u001b[0m\u001b[0;34m'scientificName'\u001b[0m\u001b[0;34m]\u001b[0m\u001b[0;34m)\u001b[0m\u001b[0;34m\u001b[0m\u001b[0;34m\u001b[0m\u001b[0m\n\u001b[0;32m----> 4\u001b[0;31m     \u001b[0mprint\u001b[0m\u001b[0;34m(\u001b[0m\u001b[0mname\u001b[0m\u001b[0;34m[\u001b[0m\u001b[0;34m'rank'\u001b[0m\u001b[0;34m]\u001b[0m\u001b[0;34m)\u001b[0m\u001b[0;34m\u001b[0m\u001b[0;34m\u001b[0m\u001b[0m\n\u001b[0m\u001b[1;32m      5\u001b[0m     \u001b[0mprint\u001b[0m\u001b[0;34m(\u001b[0m\u001b[0mname\u001b[0m\u001b[0;34m[\u001b[0m\u001b[0;34m'taxonomicStatus'\u001b[0m\u001b[0;34m]\u001b[0m\u001b[0;34m)\u001b[0m\u001b[0;34m\u001b[0m\u001b[0;34m\u001b[0m\u001b[0m\n",
      "\u001b[0;31mKeyError\u001b[0m: 'rank'"
     ]
    }
   ],
   "source": [
    "for name in names:\n",
    "    print(name['key'])\n",
    "    print(name['scientificName'])\n",
    "    print(name['rank'])\n",
    "    print(name['taxonomicStatus'])    "
   ]
  },
  {
   "cell_type": "code",
   "execution_count": null,
   "metadata": {},
   "outputs": [],
   "source": [
    "baseURL = 'https://api.gbif.org/v1/occurrence/search'\n",
    "payload = {'taxonKey':7277760,'limit':5000}\n",
    "result = get(baseURL, payload, timeout = (128,512))\n",
    "if result.status_code == 200:\n",
    "    print('Данные успешно получены')\n",
    "print(type(result))"
   ]
  },
  {
   "cell_type": "code",
   "execution_count": null,
   "metadata": {},
   "outputs": [],
   "source": [
    "full = result.json()\n",
    "print(type(full))\n",
    "occurrencecount = full['count']\n",
    "print('всего находок: ' + str(occurrencecount))"
   ]
  },
  {
   "cell_type": "code",
   "execution_count": null,
   "metadata": {},
   "outputs": [],
   "source": [
    "occurrences = full['results']\n",
    "occurrences[0]"
   ]
  },
  {
   "cell_type": "code",
   "execution_count": null,
   "metadata": {},
   "outputs": [],
   "source": [
    "uncert = []\n",
    "for occur in occurrences:\n",
    "    if 'coordinateUncertaintyInMeters' in occur:\n",
    "        if occur['coordinateUncertaintyInMeters'] <= 250:\n",
    "            uncert.append(occur['coordinateUncertaintyInMeters'])"
   ]
  },
  {
   "cell_type": "code",
   "execution_count": null,
   "metadata": {},
   "outputs": [],
   "source": [
    "import matplotlib.pyplot as plt"
   ]
  },
  {
   "cell_type": "code",
   "execution_count": null,
   "metadata": {},
   "outputs": [],
   "source": [
    "n, bins, patches = plt.hist(uncert)"
   ]
  },
  {
   "cell_type": "code",
   "execution_count": null,
   "metadata": {},
   "outputs": [],
   "source": [
    "names"
   ]
  },
  {
   "cell_type": "markdown",
   "metadata": {},
   "source": [
    "### Карта-схема"
   ]
  },
  {
   "cell_type": "markdown",
   "metadata": {},
   "source": [
    "### Опубликовавшие через ECN (EarthCape)"
   ]
  },
  {
   "cell_type": "code",
   "execution_count": null,
   "metadata": {},
   "outputs": [],
   "source": [
    "baseURL = 'https://api.gbif.org/v1/installation'\n",
    "payload = {'key':'92a00840-efe1-4b82-9a1d-c655b34c8fce'}\n",
    "result = get(baseURL, payload, timeout = (128,512))\n",
    "if result.status_code == 200:\n",
    "    print('Данные успешно получены')"
   ]
  },
  {
   "cell_type": "code",
   "execution_count": null,
   "metadata": {},
   "outputs": [],
   "source": [
    "full = result.json()\n",
    "full"
   ]
  },
  {
   "cell_type": "markdown",
   "metadata": {},
   "source": [
    "### Все организации из России"
   ]
  },
  {
   "cell_type": "code",
   "execution_count": null,
   "metadata": {},
   "outputs": [],
   "source": [
    "baseURL = 'https://api.gbif.org/v1/organization'\n",
    "payload = {'country':'RU','limit':200}\n",
    "result = get(baseURL, payload, timeout = (128,512))\n",
    "if result.status_code == 200:\n",
    "    print('Данные успешно получены')"
   ]
  },
  {
   "cell_type": "code",
   "execution_count": null,
   "metadata": {},
   "outputs": [],
   "source": [
    "full = result.json()\n",
    "institutioncount = full['count']\n",
    "print('всего организаций: ' + str(institutioncount))\n",
    "organizations = full['results']\n",
    "organizations[0]"
   ]
  },
  {
   "cell_type": "code",
   "execution_count": null,
   "metadata": {},
   "outputs": [],
   "source": [
    "\n",
    "titles = []\n",
    "for organization in organizations:\n",
    "    titles.append(organization['title'])\n",
    "titles"
   ]
  },
  {
   "cell_type": "markdown",
   "metadata": {},
   "source": [
    "### Все наборы данных из России"
   ]
  },
  {
   "cell_type": "code",
   "execution_count": null,
   "metadata": {},
   "outputs": [],
   "source": [
    "baseURL = 'https://api.gbif.org/v1/dataset'\n",
    "payload = {'country':'RU','limit':500, 'installationKey': '7743c35d-adbd-4ca6-a185-193a7a8d2684'}\n",
    "result = get(baseURL, payload, timeout = (128,512))\n",
    "\n",
    "if result.status_code == 200:\n",
    "    print('Данные успешно получены')\n",
    "\n",
    "full = result.json()\n",
    "print('Всего наборов данных: ' + str(full['count']))\n",
    "\n",
    "datasets = full['results']\n",
    "print ('получены сведения о ' + str(len(datasets)) + ' наборах данных')\n",
    "\n",
    "datasets[1]"
   ]
  },
  {
   "cell_type": "markdown",
   "metadata": {},
   "source": [
    "Задание: получить те же записи находок, что по Занятию 3, но через API GBIF и сразу с нужной точностью геопривязки.  \n",
    "[Occurrences API](https://www.gbif.org/developer/occurrence)"
   ]
  }
 ],
 "metadata": {
  "kernelspec": {
   "display_name": "Python 3",
   "language": "python",
   "name": "python3"
  },
  "language_info": {
   "codemirror_mode": {
    "name": "ipython",
    "version": 3
   },
   "file_extension": ".py",
   "mimetype": "text/x-python",
   "name": "python",
   "nbconvert_exporter": "python",
   "pygments_lexer": "ipython3",
   "version": "3.8.3"
  }
 },
 "nbformat": 4,
 "nbformat_minor": 4
}
